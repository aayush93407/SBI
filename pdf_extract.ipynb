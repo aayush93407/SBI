{
 "cells": [
  {
   "cell_type": "code",
   "execution_count": null,
   "metadata": {},
   "outputs": [],
   "source": [
    "import re\n",
    "import joblib \n",
    "import numpy as np\n",
    "import pandas as pd\n",
    "from sklearn.model_selection import train_test_split\n",
    "from sklearn.ensemble import RandomForestRegressor\n",
    "from sklearn.metrics import mean_absolute_error"
   ]
  },
  {
   "cell_type": "code",
   "execution_count": 20,
   "metadata": {},
   "outputs": [
    {
     "name": "stdout",
     "output_type": "stream",
     "text": [
      "Total Claim Amount Extracted: Rs 34700\n"
     ]
    }
   ],
   "source": [
    "import pdfplumber\n",
    "import re\n",
    "\n",
    "pdf_path = \"rewq.pdf\"\n",
    "with pdfplumber.open(pdf_path) as pdf:\n",
    "    pdf_text = \"\"\n",
    "    for page in pdf.pages:\n",
    "        pdf_text += page.extract_text()\n",
    "\n",
    "pattern = r\"Total\\s*Rs\\.?\\s*((?:\\d\\s*)+)\"  \n",
    "\n",
    "match = re.search(pattern, pdf_text)\n",
    "\n",
    "if match:\n",
    "\n",
    "    total_claim_amount = int(match.group(1).replace(\" \", \"\"))\n",
    "    print(f\"Total Claim Amount Extracted: Rs {total_claim_amount}\")\n",
    "else:\n",
    "    print(\"Total Claim Amount not found in the PDF.\")\n"
   ]
  },
  {
   "cell_type": "code",
   "execution_count": 21,
   "metadata": {},
   "outputs": [
    {
     "name": "stdout",
     "output_type": "stream",
     "text": [
      "Patient Name Extracted: Rakshitha Patel\n"
     ]
    }
   ],
   "source": [
    "# Regex to capture the \"Insured Name\" without capturing unwanted text\n",
    "insured_name_pattern = r\"Patient\\s*Name[:\\-\\s]*([A-Za-z\\s]+?)(?=\\s*(Mobile|Policy|Claim|No))\"\n",
    "insured_name_match = re.search(insured_name_pattern, pdf_text)\n",
    "\n",
    "if insured_name_match:\n",
    "    insured_name = insured_name_match.group(1).strip()\n",
    "    print(f\"Patient Name Extracted: {insured_name}\")\n",
    "else:\n",
    "    print(\"Patient Name not found in the PDF.\")"
   ]
  },
  {
   "cell_type": "code",
   "execution_count": 12,
   "metadata": {},
   "outputs": [
    {
     "name": "stdout",
     "output_type": "stream",
     "text": [
      "Extracted text saved to pdf_text_debug.txt for inspection.\n"
     ]
    }
   ],
   "source": [
    "import pdfplumber\n",
    "\n",
    "# Load the PDF and extract the text\n",
    "pdf_path = \"perote.pdf\"\n",
    "with pdfplumber.open(pdf_path) as pdf:\n",
    "    pdf_text = \"\"\n",
    "    for page in pdf.pages:\n",
    "        pdf_text += page.extract_text()\n",
    "\n",
    "# Save the text to a file for review\n",
    "with open(\"pdf_text_debug.txt\", \"w\", encoding=\"utf-8\") as file:\n",
    "    file.write(pdf_text)\n",
    "\n",
    "print(\"Extracted text saved to pdf_text_debug.txt for inspection.\")\n"
   ]
  },
  {
   "cell_type": "code",
   "execution_count": null,
   "metadata": {},
   "outputs": [],
   "source": []
  },
  {
   "cell_type": "code",
   "execution_count": null,
   "metadata": {},
   "outputs": [],
   "source": []
  },
  {
   "cell_type": "code",
   "execution_count": 1,
   "metadata": {},
   "outputs": [],
   "source": [
    "import pdf2image\n",
    "import pytesseract\n",
    "import pdfplumber\n",
    "import re\n",
    "import joblib  \n",
    "import numpy as np\n",
    "import pandas as pd\n",
    "from sklearn.model_selection import train_test_split\n",
    "from sklearn.ensemble import RandomForestRegressor\n",
    "from sklearn.preprocessing import LabelEncoder\n",
    "from sklearn.metrics import mean_absolute_error\n",
    "from PIL import Image\n",
    "\n",
    "def extract_text_from_pdf(pdf_path):\n",
    "    \"\"\"Extract text from a PDF using OCR (Tesseract) and pdfplumber.\"\"\"\n",
    "    text = \"\"\n",
    "    with pdfplumber.open(pdf_path) as pdf:\n",
    "        for page in pdf.pages:\n",
    "            text += page.extract_text() + \"\\n\"\n",
    "    \n",
    "    if not text.strip():  \n",
    "        images = pdf2image.convert_from_path(pdf_path)\n",
    "        text = \"\\n\".join([pytesseract.image_to_string(img) for img in images])\n",
    "    \n",
    "    return text\n",
    "\n",
    "def extract_entities(text):\n",
    "    \"\"\"Extract hospital name, doctor name, and billing amount using keyword search and regex.\"\"\"\n",
    "    hospital_name = \"Unknown\"\n",
    "    doctor_name = \"Unknown\"\n",
    "    billing_amount = None\n",
    "    \n",
    "    lines = text.split(\"\\n\")\n",
    "    for i, line in enumerate(lines):\n",
    "        if \"Name of Insurer\" in line:\n",
    "            hospital_name = lines[i + 1].strip() if i + 1 < len(lines) else \"Unknown\"\n",
    "        elif \"Doctor Name\" in line:\n",
    "            doctor_name = lines[i + 1].strip() if i + 1 < len(lines) else \"Unknown\"\n",
    "    \n",
    "    \n",
    "    pattern = r\"Total\\s*Rs\\.?\\s*((?:\\d\\s*)+)\"\n",
    "    match = re.search(pattern, text)\n",
    "    if match:\n",
    "        billing_amount = int(match.group(1).replace(\" \", \"\"))\n",
    "    \n",
    "    return hospital_name, doctor_name, billing_amount\n",
    "\n",
    "def train_model(csv_path, model_path):\n",
    "    \"\"\"Train an ML model to predict billing amounts with additional features.\"\"\"\n",
    "    df = pd.read_csv(csv_path)\n",
    "    df.dropna(inplace=True)\n",
    "    \n",
    "    label_encoders = {}\n",
    "    for col in ['Doctor', 'Hospital', 'Medical Condition', 'Admission Type', 'Insurance Provider']:\n",
    "        le = LabelEncoder()\n",
    "        df[col] = le.fit_transform(df[col])\n",
    "        df[col] = df[col].astype(int)\n",
    "        label_encoders[col] = le\n",
    "    \n",
    "    X = df[['Doctor', 'Hospital', 'Medical Condition', 'Admission Type', 'Insurance Provider']]\n",
    "    y = df['Billing Amount']\n",
    "    \n",
    "    X_train, X_test, y_train, y_test = train_test_split(X, y, test_size=0.2, random_state=42)\n",
    "    model = RandomForestRegressor(n_estimators=100, random_state=42)\n",
    "    model.fit(X_train, y_train)\n",
    "    \n",
    "    predictions = model.predict(X_test)\n",
    "    error = mean_absolute_error(y_test, predictions)\n",
    "    print(f\"Model trained. Mean Absolute Error: {error}\")\n",
    "    \n",
    "    joblib.dump((model, label_encoders), model_path)\n",
    "    print(f\"Model saved to {model_path}\")\n",
    "\n",
    "def predict_billing(hospital, doctor, medical_condition, admission_type, insurance_provider, model_path):\n",
    "    \"\"\"Predict billing amount using a trained ML model with additional features.\"\"\"\n",
    "    model, label_encoders = joblib.load(model_path)\n",
    "    \n",
    "    def encode_label(value, encoder):\n",
    "        if value in encoder.classes_:\n",
    "            return encoder.transform([value])[0]\n",
    "        else:\n",
    "            return -1  \n",
    "    \n",
    "    features = np.array([\n",
    "        encode_label(doctor, label_encoders['Doctor']),\n",
    "        encode_label(hospital, label_encoders['Hospital']),\n",
    "        encode_label(medical_condition, label_encoders['Medical Condition']),\n",
    "        encode_label(admission_type, label_encoders['Admission Type']),\n",
    "        encode_label(insurance_provider, label_encoders['Insurance Provider'])\n",
    "    ]).reshape(1, -1)\n",
    "    \n",
    "    predicted_amount = model.predict(features)\n",
    "    return predicted_amount[0]\n",
    "\n",
    "def main(pdf_path, model_path):\n",
    "    text = extract_text_from_pdf(pdf_path)\n",
    "    hospital, doctor, actual_amount = extract_entities(text)\n",
    "    \n",
    "    medical_condition = \"Diabetes\"  \n",
    "    admission_type = \"Emergency\"  \n",
    "    insurance_provider = \"Medicare\"  \n",
    "    \n",
    "    predicted_amount = predict_billing(hospital, doctor, medical_condition, admission_type, insurance_provider, model_path)\n",
    "    \n",
    "    print(f\"Extracted Hospital: {hospital}\")\n",
    "    print(f\"Extracted Doctor: {doctor}\")\n",
    "    print(f\"Actual Billing Amount: {actual_amount}\")\n",
    "    print(f\"Predicted Billing Amount: {predicted_amount}\")\n",
    "    \n",
    "    if actual_amount:\n",
    "        difference = abs(actual_amount - predicted_amount)\n",
    "        print(f\"Billing Difference: {difference}\")\n",
    "    else:\n",
    "        print(\"Could not extract actual billing amount from PDF.\")\n"
   ]
  },
  {
   "cell_type": "code",
   "execution_count": null,
   "metadata": {},
   "outputs": [
    {
     "name": "stdout",
     "output_type": "stream",
     "text": [
      "Note: you may need to restart the kernel to use updated packages.Defaulting to user installation because normal site-packages is not writeable\n",
      "Collecting pytesseract\n",
      "  Using cached pytesseract-0.3.13-py3-none-any.whl.metadata (11 kB)\n",
      "Collecting pdf2image\n",
      "  Using cached pdf2image-1.17.0-py3-none-any.whl.metadata (6.2 kB)\n",
      "Requirement already satisfied: pillow in c:\\users\\aayush the great\\appdata\\roaming\\python\\python312\\site-packages (11.0.0)\n",
      "Requirement already satisfied: packaging>=21.3 in c:\\users\\aayush the great\\appdata\\roaming\\python\\python312\\site-packages (from pytesseract) (24.1)\n",
      "Using cached pytesseract-0.3.13-py3-none-any.whl (14 kB)\n",
      "Using cached pdf2image-1.17.0-py3-none-any.whl (11 kB)\n",
      "Installing collected packages: pytesseract, pdf2image\n",
      "Successfully installed pdf2image-1.17.0 pytesseract-0.3.13\n",
      "\n"
     ]
    },
    {
     "name": "stderr",
     "output_type": "stream",
     "text": [
      "\n",
      "[notice] A new release of pip is available: 24.3.1 -> 25.0\n",
      "[notice] To update, run: python.exe -m pip install --upgrade pip\n"
     ]
    }
   ],
   "source": [
    "pip install pytesseract pdf2image pillow\n"
   ]
  },
  {
   "cell_type": "code",
   "execution_count": 2,
   "metadata": {},
   "outputs": [
    {
     "name": "stdout",
     "output_type": "stream",
     "text": [
      "Model trained. Mean Absolute Error: 12662.76668211997\n",
      "Model saved to billing_model.pkl\n",
      "Extracted Hospital: Paramount\n",
      "Extracted Doctor: Unknown\n",
      "Actual Billing Amount: 34700\n",
      "Predicted Billing Amount: 25729.76015927\n",
      "Billing Difference: 8970.239840729999\n"
     ]
    },
    {
     "name": "stderr",
     "output_type": "stream",
     "text": [
      "C:\\Users\\AAYUSH THE GREAT\\AppData\\Roaming\\Python\\Python312\\site-packages\\sklearn\\utils\\validation.py:2739: UserWarning: X does not have valid feature names, but RandomForestRegressor was fitted with feature names\n",
      "  warnings.warn(\n"
     ]
    }
   ],
   "source": [
    "train_model(\"healthcare_dataset.csv\", \"billing_model.pkl\")\n",
    "main(\"rewq.pdf\", \"billing_model.pkl\")\n"
   ]
  },
  {
   "cell_type": "code",
   "execution_count": null,
   "metadata": {},
   "outputs": [],
   "source": []
  }
 ],
 "metadata": {
  "kernelspec": {
   "display_name": "Python 3",
   "language": "python",
   "name": "python3"
  },
  "language_info": {
   "codemirror_mode": {
    "name": "ipython",
    "version": 3
   },
   "file_extension": ".py",
   "mimetype": "text/x-python",
   "name": "python",
   "nbconvert_exporter": "python",
   "pygments_lexer": "ipython3",
   "version": "3.12.6"
  }
 },
 "nbformat": 4,
 "nbformat_minor": 2
}
